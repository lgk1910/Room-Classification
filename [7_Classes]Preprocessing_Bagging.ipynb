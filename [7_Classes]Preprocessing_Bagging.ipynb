{
 "cells": [
  {
   "cell_type": "code",
   "execution_count": 1,
   "metadata": {
    "executionInfo": {
     "elapsed": 1198,
     "status": "ok",
     "timestamp": 1608193292582,
     "user": {
      "displayName": "KHÔI NGUYỄN LUẬT GIA",
      "photoUrl": "https://lh3.googleusercontent.com/a-/AOh14Ggqj3TIEObxb6jPXGgpawooWGQPZm5J0Vsl2XuBmg=s64",
      "userId": "13118608901815618259"
     },
     "user_tz": -420
    },
    "id": "Jxtp2nijHETp"
   },
   "outputs": [],
   "source": [
    "import numpy as np\n",
    "import os\n",
    "import cv2\n",
    "import matplotlib.pyplot as plt"
   ]
  },
  {
   "cell_type": "code",
   "execution_count": 2,
   "metadata": {},
   "outputs": [],
   "source": [
    "import tensorflow"
   ]
  },
  {
   "cell_type": "code",
   "execution_count": 3,
   "metadata": {
    "scrolled": true
   },
   "outputs": [
    {
     "name": "stdout",
     "output_type": "stream",
     "text": [
      "C:\\Program Files\\Python38\\python.exe\n"
     ]
    }
   ],
   "source": [
    "import sys\n",
    "print(sys.executable)"
   ]
  },
  {
   "cell_type": "code",
   "execution_count": 4,
   "metadata": {
    "executionInfo": {
     "elapsed": 1785,
     "status": "ok",
     "timestamp": 1608193293172,
     "user": {
      "displayName": "KHÔI NGUYỄN LUẬT GIA",
      "photoUrl": "https://lh3.googleusercontent.com/a-/AOh14Ggqj3TIEObxb6jPXGgpawooWGQPZm5J0Vsl2XuBmg=s64",
      "userId": "13118608901815618259"
     },
     "user_tz": -420
    },
    "id": "aGXBt3t_HET0"
   },
   "outputs": [],
   "source": [
    "import pandas as pd"
   ]
  },
  {
   "cell_type": "code",
   "execution_count": 5,
   "metadata": {
    "colab": {
     "base_uri": "https://localhost:8080/"
    },
    "executionInfo": {
     "elapsed": 1770,
     "status": "ok",
     "timestamp": 1608193293172,
     "user": {
      "displayName": "KHÔI NGUYỄN LUẬT GIA",
      "photoUrl": "https://lh3.googleusercontent.com/a-/AOh14Ggqj3TIEObxb6jPXGgpawooWGQPZm5J0Vsl2XuBmg=s64",
      "userId": "13118608901815618259"
     },
     "user_tz": -420
    },
    "id": "icGtVlrAHFMw",
    "outputId": "32a55fc3-bfa9-4542-8b93-51212d97b5e2"
   },
   "outputs": [],
   "source": [
    "# from google.colab import drive\n",
    "# drive.mount('/content/drive')"
   ]
  },
  {
   "cell_type": "code",
   "execution_count": 6,
   "metadata": {
    "executionInfo": {
     "elapsed": 1770,
     "status": "ok",
     "timestamp": 1608193293173,
     "user": {
      "displayName": "KHÔI NGUYỄN LUẬT GIA",
      "photoUrl": "https://lh3.googleusercontent.com/a-/AOh14Ggqj3TIEObxb6jPXGgpawooWGQPZm5J0Vsl2XuBmg=s64",
      "userId": "13118608901815618259"
     },
     "user_tz": -420
    },
    "id": "qRyy67InHJnz"
   },
   "outputs": [],
   "source": [
    "# import os\n",
    "# os.chdir(\"/content/drive/\")"
   ]
  },
  {
   "cell_type": "code",
   "execution_count": 7,
   "metadata": {
    "colab": {
     "base_uri": "https://localhost:8080/"
    },
    "executionInfo": {
     "elapsed": 1765,
     "status": "ok",
     "timestamp": 1608193293173,
     "user": {
      "displayName": "KHÔI NGUYỄN LUẬT GIA",
      "photoUrl": "https://lh3.googleusercontent.com/a-/AOh14Ggqj3TIEObxb6jPXGgpawooWGQPZm5J0Vsl2XuBmg=s64",
      "userId": "13118608901815618259"
     },
     "user_tz": -420
    },
    "id": "2WVh3qwpHKIm",
    "outputId": "0c04e82f-ea1f-42b5-f359-3ecde9787a85",
    "scrolled": true
   },
   "outputs": [],
   "source": [
    "# %cd MyDrive/Colab Notebooks/Room Classification"
   ]
  },
  {
   "cell_type": "code",
   "execution_count": 8,
   "metadata": {},
   "outputs": [],
   "source": [
    "TRAINING_PATH = 'rest_tagging-master/Dataset/'"
   ]
  },
  {
   "cell_type": "code",
   "execution_count": 9,
   "metadata": {},
   "outputs": [],
   "source": [
    "subfolders = os.listdir(TRAINING_PATH)\n",
    "# subfolders.remove('Interior')"
   ]
  },
  {
   "cell_type": "code",
   "execution_count": 10,
   "metadata": {},
   "outputs": [
    {
     "data": {
      "text/plain": [
       "['bathroom',\n",
       " 'bedroom',\n",
       " 'dining_room',\n",
       " 'Exterior',\n",
       " 'Interior',\n",
       " 'kitchen',\n",
       " 'living_room']"
      ]
     },
     "execution_count": 10,
     "metadata": {},
     "output_type": "execute_result"
    }
   ],
   "source": [
    "subfolders"
   ]
  },
  {
   "cell_type": "code",
   "execution_count": 11,
   "metadata": {},
   "outputs": [],
   "source": [
    "def preprocessing(batch_folder, batch_id):\n",
    "    X = []\n",
    "    y = []\n",
    "    for j in range(len(subfolders)):\n",
    "        count = 0;\n",
    "        files = os.listdir(TRAINING_PATH + subfolders[j])\n",
    "        index_lst = np.random.randint(len(files), size=1000)\n",
    "        for idx in index_lst:\n",
    "            img = cv2.imread(TRAINING_PATH + subfolders[j] + '/' + files[idx]).astype(np.float32)\n",
    "            img_resized = cv2.resize(img, (240,240,))/255\n",
    "            X.append(img_resized)\n",
    "            y.append(j)\n",
    "            count += 1\n",
    "            if (count == 1000):\n",
    "                print('     Processing ' + subfolders[j] +' samples: Done' )\n",
    "                break\n",
    "    X = np.array(X, copy=False)\n",
    "    y = np.array(y, copy=False)\n",
    "    batch_path = batch_folder + '/batch_' + str(batch_id) + '.npz' \n",
    "    np.savez(batch_path, X=X, y=y)\n",
    "    print('   >> Batch ' + str(batch_id) + ' saved.')"
   ]
  },
  {
   "cell_type": "code",
   "execution_count": 12,
   "metadata": {},
   "outputs": [],
   "source": [
    "def preprocess_and_save_bootstrap_batches(batch_folder, num_batch):\n",
    "    os.mkdir(batch_folder)\n",
    "    for i in range(num_batch):\n",
    "        print('------------------------------------------')\n",
    "        print('Preprocessing batch ' + str(i+1) + 'th:')\n",
    "        preprocessing(batch_folder, i+1)"
   ]
  },
  {
   "cell_type": "code",
   "execution_count": 13,
   "metadata": {
    "scrolled": false
   },
   "outputs": [
    {
     "name": "stdout",
     "output_type": "stream",
     "text": [
      "------------------------------------------\n",
      "Preprocessing batch 1th:\n",
      "     Processing bathroom samples: Done\n",
      "     Processing bedroom samples: Done\n",
      "     Processing dining_room samples: Done\n",
      "     Processing Exterior samples: Done\n",
      "     Processing Interior samples: Done\n",
      "     Processing kitchen samples: Done\n",
      "     Processing living_room samples: Done\n",
      "   >> Batch 1 saved.\n",
      "------------------------------------------\n",
      "Preprocessing batch 2th:\n",
      "     Processing bathroom samples: Done\n",
      "     Processing bedroom samples: Done\n",
      "     Processing dining_room samples: Done\n",
      "     Processing Exterior samples: Done\n",
      "     Processing Interior samples: Done\n",
      "     Processing kitchen samples: Done\n",
      "     Processing living_room samples: Done\n",
      "   >> Batch 2 saved.\n",
      "------------------------------------------\n",
      "Preprocessing batch 3th:\n",
      "     Processing bathroom samples: Done\n",
      "     Processing bedroom samples: Done\n",
      "     Processing dining_room samples: Done\n",
      "     Processing Exterior samples: Done\n",
      "     Processing Interior samples: Done\n",
      "     Processing kitchen samples: Done\n",
      "     Processing living_room samples: Done\n",
      "   >> Batch 3 saved.\n",
      "------------------------------------------\n",
      "Preprocessing batch 4th:\n",
      "     Processing bathroom samples: Done\n",
      "     Processing bedroom samples: Done\n",
      "     Processing dining_room samples: Done\n",
      "     Processing Exterior samples: Done\n",
      "     Processing Interior samples: Done\n",
      "     Processing kitchen samples: Done\n",
      "     Processing living_room samples: Done\n",
      "   >> Batch 4 saved.\n",
      "------------------------------------------\n",
      "Preprocessing batch 5th:\n",
      "     Processing bathroom samples: Done\n",
      "     Processing bedroom samples: Done\n",
      "     Processing dining_room samples: Done\n",
      "     Processing Exterior samples: Done\n",
      "     Processing Interior samples: Done\n",
      "     Processing kitchen samples: Done\n",
      "     Processing living_room samples: Done\n",
      "   >> Batch 5 saved.\n",
      "------------------------------------------\n",
      "Preprocessing batch 6th:\n",
      "     Processing bathroom samples: Done\n",
      "     Processing bedroom samples: Done\n",
      "     Processing dining_room samples: Done\n",
      "     Processing Exterior samples: Done\n",
      "     Processing Interior samples: Done\n",
      "     Processing kitchen samples: Done\n",
      "     Processing living_room samples: Done\n",
      "   >> Batch 6 saved.\n",
      "------------------------------------------\n",
      "Preprocessing batch 7th:\n",
      "     Processing bathroom samples: Done\n",
      "     Processing bedroom samples: Done\n",
      "     Processing dining_room samples: Done\n",
      "     Processing Exterior samples: Done\n",
      "     Processing Interior samples: Done\n",
      "     Processing kitchen samples: Done\n",
      "     Processing living_room samples: Done\n",
      "   >> Batch 7 saved.\n",
      "------------------------------------------\n",
      "Preprocessing batch 8th:\n",
      "     Processing bathroom samples: Done\n",
      "     Processing bedroom samples: Done\n",
      "     Processing dining_room samples: Done\n",
      "     Processing Exterior samples: Done\n",
      "     Processing Interior samples: Done\n",
      "     Processing kitchen samples: Done\n",
      "     Processing living_room samples: Done\n",
      "   >> Batch 8 saved.\n",
      "------------------------------------------\n",
      "Preprocessing batch 9th:\n",
      "     Processing bathroom samples: Done\n",
      "     Processing bedroom samples: Done\n",
      "     Processing dining_room samples: Done\n",
      "     Processing Exterior samples: Done\n",
      "     Processing Interior samples: Done\n",
      "     Processing kitchen samples: Done\n",
      "     Processing living_room samples: Done\n",
      "   >> Batch 9 saved.\n",
      "------------------------------------------\n",
      "Preprocessing batch 10th:\n",
      "     Processing bathroom samples: Done\n",
      "     Processing bedroom samples: Done\n",
      "     Processing dining_room samples: Done\n",
      "     Processing Exterior samples: Done\n",
      "     Processing Interior samples: Done\n",
      "     Processing kitchen samples: Done\n",
      "     Processing living_room samples: Done\n",
      "   >> Batch 10 saved.\n"
     ]
    }
   ],
   "source": [
    "preprocess_and_save_bootstrap_batches('batches', 10)"
   ]
  },
  {
   "cell_type": "code",
   "execution_count": null,
   "metadata": {},
   "outputs": [],
   "source": [
    "def get_Xy_test(model_folder, batch_folder, batch_id, X_test_lst, y_test_lst):\n",
    "    batch_path = batch_folder + '/batch_' + str(batch_id) + '.npz' \n",
    "    with np.load(batch_path) as batch:\n",
    "        X = batch['X']\n",
    "        y = batch['y']\n",
    "    X_train, X_test, y_train, y_test = train_test_split(X, y, test_size=0.2, random_state=42)\n",
    "    X_test_lst.append(X_test.tolist())\n",
    "    y_test_lst.append(y_test.tolist())"
   ]
  },
  {
   "cell_type": "code",
   "execution_count": null,
   "metadata": {},
   "outputs": [],
   "source": [
    "X_test = []\n",
    "y_test = []\n",
    "for i in range(1, 6):\n",
    "    get_Xy_test('bagging_models', 'batches', i, X_test, y_test)"
   ]
  },
  {
   "cell_type": "code",
   "execution_count": null,
   "metadata": {},
   "outputs": [],
   "source": [
    "X_test = np.array(X_test, copy=False)\n",
    "y_test = np.array(y_test, copy=False)"
   ]
  },
  {
   "cell_type": "code",
   "execution_count": null,
   "metadata": {},
   "outputs": [],
   "source": [
    "X_test = np.reshape(X_test, (1400*5, 240, 240, 3))\n",
    "y_test = np.reshape(y_test, (1400*5))"
   ]
  },
  {
   "cell_type": "code",
   "execution_count": null,
   "metadata": {},
   "outputs": [],
   "source": [
    "np.savez('batches/test_set.npz', X_test=X_test, y_test=y_test)"
   ]
  }
 ],
 "metadata": {
  "colab": {
   "name": "Preprocessing.ipynb",
   "provenance": []
  },
  "kernelspec": {
   "display_name": "tensorflow-gpu",
   "language": "python",
   "name": "tensorflow-gpu"
  },
  "language_info": {
   "codemirror_mode": {
    "name": "ipython",
    "version": 3
   },
   "file_extension": ".py",
   "mimetype": "text/x-python",
   "name": "python",
   "nbconvert_exporter": "python",
   "pygments_lexer": "ipython3",
   "version": "3.8.5"
  }
 },
 "nbformat": 4,
 "nbformat_minor": 1
}
