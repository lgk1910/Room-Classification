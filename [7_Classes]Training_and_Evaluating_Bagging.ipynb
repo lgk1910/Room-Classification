{
 "cells": [
  {
   "cell_type": "code",
   "execution_count": 1,
   "metadata": {
    "executionInfo": {
     "elapsed": 8120,
     "status": "ok",
     "timestamp": 1608286445279,
     "user": {
      "displayName": "KHÔI NGUYỄN LUẬT GIA",
      "photoUrl": "https://lh3.googleusercontent.com/a-/AOh14Ggqj3TIEObxb6jPXGgpawooWGQPZm5J0Vsl2XuBmg=s64",
      "userId": "13118608901815618259"
     },
     "user_tz": -420
    },
    "id": "EiFakeY6y_6b"
   },
   "outputs": [],
   "source": [
    "import tensorflow as tf\n",
    "from tensorflow import keras\n",
    "import matplotlib.pyplot as plt\n",
    "%matplotlib inline \n",
    "import numpy as np\n",
    "import pickle"
   ]
  },
  {
   "cell_type": "code",
   "execution_count": 2,
   "metadata": {},
   "outputs": [],
   "source": [
    "# !pip install matplotlib"
   ]
  },
  {
   "cell_type": "code",
   "execution_count": 3,
   "metadata": {
    "colab": {
     "base_uri": "https://localhost:8080/"
    },
    "executionInfo": {
     "elapsed": 8112,
     "status": "ok",
     "timestamp": 1608286445279,
     "user": {
      "displayName": "KHÔI NGUYỄN LUẬT GIA",
      "photoUrl": "https://lh3.googleusercontent.com/a-/AOh14Ggqj3TIEObxb6jPXGgpawooWGQPZm5J0Vsl2XuBmg=s64",
      "userId": "13118608901815618259"
     },
     "user_tz": -420
    },
    "id": "zQy_iandzLVW",
    "outputId": "22990e40-9930-485f-a611-059c93495524"
   },
   "outputs": [],
   "source": [
    "# from google.colab import drive\n",
    "# drive.mount('/content/drive')\n"
   ]
  },
  {
   "cell_type": "code",
   "execution_count": 4,
   "metadata": {
    "executionInfo": {
     "elapsed": 8108,
     "status": "ok",
     "timestamp": 1608286445280,
     "user": {
      "displayName": "KHÔI NGUYỄN LUẬT GIA",
      "photoUrl": "https://lh3.googleusercontent.com/a-/AOh14Ggqj3TIEObxb6jPXGgpawooWGQPZm5J0Vsl2XuBmg=s64",
      "userId": "13118608901815618259"
     },
     "user_tz": -420
    },
    "id": "VeTMSzm_zNZd"
   },
   "outputs": [],
   "source": [
    "# import os\n",
    "# os.chdir(\"/content/drive/\")"
   ]
  },
  {
   "cell_type": "code",
   "execution_count": 5,
   "metadata": {
    "colab": {
     "base_uri": "https://localhost:8080/"
    },
    "executionInfo": {
     "elapsed": 8103,
     "status": "ok",
     "timestamp": 1608286445280,
     "user": {
      "displayName": "KHÔI NGUYỄN LUẬT GIA",
      "photoUrl": "https://lh3.googleusercontent.com/a-/AOh14Ggqj3TIEObxb6jPXGgpawooWGQPZm5J0Vsl2XuBmg=s64",
      "userId": "13118608901815618259"
     },
     "user_tz": -420
    },
    "id": "jsBm-Wt0zPiW",
    "outputId": "5e17cd72-ffdb-4aa9-e9b2-92befc1d94dd"
   },
   "outputs": [],
   "source": [
    "# %cd MyDrive/Colab Notebooks/Room Classification/Train"
   ]
  },
  {
   "cell_type": "code",
   "execution_count": 6,
   "metadata": {},
   "outputs": [],
   "source": [
    "from sklearn.model_selection import train_test_split\n",
    "import tensorflow_hub as hub"
   ]
  },
  {
   "cell_type": "code",
   "execution_count": 7,
   "metadata": {},
   "outputs": [],
   "source": [
    "labels = ['bathroom', 'bedroom', 'dining_room', 'exterior', 'interior', 'kitchen', 'living_room']"
   ]
  },
  {
   "cell_type": "code",
   "execution_count": 8,
   "metadata": {},
   "outputs": [],
   "source": [
    "def training_batch(batch_folder, model_folder, batch_id):\n",
    "    batch_path = batch_folder + '/batch_' + str(batch_id) + '.npz' \n",
    "    with np.load(batch_path) as batch:\n",
    "        X = batch['X']\n",
    "        y = batch['y']\n",
    "    X_train, X_test, y_train, y_test = train_test_split(X, y, test_size=0.2, random_state=42)\n",
    "    EfficientNet_B1_URL = \"https://tfhub.dev/google/efficientnet/b1/feature-vector/1\"\n",
    "    pretrained_model_freezed = hub.KerasLayer(EfficientNet_B1_URL, input_shape=(240,240,3), trainable=False)\n",
    "    model = keras.Sequential([\n",
    "        pretrained_model_freezed,\n",
    "        keras.layers.Dense(7, activation='softmax')\n",
    "\n",
    "    ])\n",
    "    model.compile(optimizer='adam',\n",
    "             loss=keras.losses.SparseCategoricalCrossentropy(from_logits=True),\n",
    "             metrics=['accuracy'])\n",
    "    model.fit(X_train, y_train, epochs=10)\n",
    "    model.save(model_folder + '/model_' + str(batch_id) +'.h5')\n",
    "    print('Model ' + str(batch_id) + ' trained and saved successfully!')"
   ]
  },
  {
   "cell_type": "code",
   "execution_count": 9,
   "metadata": {},
   "outputs": [],
   "source": [
    "def training_batches(batch_folder, model_folder, num_batches):\n",
    "    for i in range(1,num_batches+1):\n",
    "        training_batch(batch_folder, model_folder, i)"
   ]
  },
  {
   "cell_type": "code",
   "execution_count": 10,
   "metadata": {},
   "outputs": [
    {
     "name": "stdout",
     "output_type": "stream",
     "text": [
      "Epoch 1/10\n",
      "175/175 [==============================] - 99s 469ms/step - loss: 1.0772 - accuracy: 0.6444\n",
      "Epoch 2/10\n",
      "175/175 [==============================] - 83s 474ms/step - loss: 0.4858 - accuracy: 0.8414\n",
      "Epoch 3/10\n",
      "175/175 [==============================] - 83s 477ms/step - loss: 0.4289 - accuracy: 0.8549\n",
      "Epoch 4/10\n",
      "175/175 [==============================] - 83s 477ms/step - loss: 0.3863 - accuracy: 0.8685\n",
      "Epoch 5/10\n",
      "175/175 [==============================] - 84s 478ms/step - loss: 0.3609 - accuracy: 0.8812\n",
      "Epoch 6/10\n",
      "175/175 [==============================] - 84s 479ms/step - loss: 0.3362 - accuracy: 0.8898\n",
      "Epoch 7/10\n",
      "175/175 [==============================] - 84s 479ms/step - loss: 0.3122 - accuracy: 0.8885\n",
      "Epoch 8/10\n",
      "175/175 [==============================] - 84s 480ms/step - loss: 0.3060 - accuracy: 0.8976\n",
      "Epoch 9/10\n",
      "175/175 [==============================] - 84s 480ms/step - loss: 0.2868 - accuracy: 0.9111\n",
      "Epoch 10/10\n",
      "175/175 [==============================] - 84s 481ms/step - loss: 0.2597 - accuracy: 0.9196\n",
      "Model 1 trained and saved successfully!\n",
      "Epoch 1/10\n",
      "175/175 [==============================] - 99s 474ms/step - loss: 1.0738 - accuracy: 0.6462\n",
      "Epoch 2/10\n",
      "175/175 [==============================] - 83s 477ms/step - loss: 0.5005 - accuracy: 0.8309\n",
      "Epoch 3/10\n",
      "175/175 [==============================] - 84s 479ms/step - loss: 0.4096 - accuracy: 0.8745\n",
      "Epoch 4/10\n",
      "175/175 [==============================] - 84s 480ms/step - loss: 0.3821 - accuracy: 0.8803\n",
      "Epoch 5/10\n",
      "175/175 [==============================] - 84s 481ms/step - loss: 0.3595 - accuracy: 0.8831\n",
      "Epoch 6/10\n",
      "175/175 [==============================] - 84s 482ms/step - loss: 0.3400 - accuracy: 0.8896\n",
      "Epoch 7/10\n",
      "175/175 [==============================] - 84s 481ms/step - loss: 0.3205 - accuracy: 0.9001\n",
      "Epoch 8/10\n",
      "175/175 [==============================] - 85s 483ms/step - loss: 0.2801 - accuracy: 0.9149\n",
      "Epoch 9/10\n",
      "175/175 [==============================] - 84s 482ms/step - loss: 0.2743 - accuracy: 0.9167\n",
      "Epoch 10/10\n",
      "175/175 [==============================] - 85s 483ms/step - loss: 0.2737 - accuracy: 0.9200\n",
      "Model 2 trained and saved successfully!\n",
      "Epoch 1/10\n",
      "175/175 [==============================] - 97s 478ms/step - loss: 1.1043 - accuracy: 0.6321\n",
      "Epoch 2/10\n",
      "175/175 [==============================] - 83s 473ms/step - loss: 0.5001 - accuracy: 0.8370\n",
      "Epoch 3/10\n",
      "175/175 [==============================] - 83s 474ms/step - loss: 0.4163 - accuracy: 0.8570\n",
      "Epoch 4/10\n",
      "175/175 [==============================] - 83s 476ms/step - loss: 0.4092 - accuracy: 0.8668\n",
      "Epoch 5/10\n",
      "175/175 [==============================] - 83s 477ms/step - loss: 0.3876 - accuracy: 0.8736\n",
      "Epoch 6/10\n",
      "175/175 [==============================] - 84s 477ms/step - loss: 0.3421 - accuracy: 0.8858\n",
      "Epoch 7/10\n",
      "175/175 [==============================] - 84s 478ms/step - loss: 0.3148 - accuracy: 0.9027\n",
      "Epoch 8/10\n",
      "175/175 [==============================] - 84s 479ms/step - loss: 0.2940 - accuracy: 0.9095\n",
      "Epoch 9/10\n",
      "175/175 [==============================] - 84s 479ms/step - loss: 0.2767 - accuracy: 0.9147\n",
      "Epoch 10/10\n",
      "175/175 [==============================] - 84s 479ms/step - loss: 0.2724 - accuracy: 0.9119\n",
      "Model 3 trained and saved successfully!\n",
      "Epoch 1/10\n",
      "175/175 [==============================] - 99s 503ms/step - loss: 1.0550 - accuracy: 0.6621\n",
      "Epoch 2/10\n",
      "175/175 [==============================] - 83s 474ms/step - loss: 0.4475 - accuracy: 0.8547\n",
      "Epoch 3/10\n",
      "175/175 [==============================] - 84s 478ms/step - loss: 0.4105 - accuracy: 0.8631\n",
      "Epoch 4/10\n",
      "175/175 [==============================] - 84s 479ms/step - loss: 0.3653 - accuracy: 0.8787\n",
      "Epoch 5/10\n",
      "175/175 [==============================] - 84s 480ms/step - loss: 0.3672 - accuracy: 0.8789\n",
      "Epoch 6/10\n",
      "175/175 [==============================] - 84s 479ms/step - loss: 0.3039 - accuracy: 0.9069\n",
      "Epoch 7/10\n",
      "175/175 [==============================] - 84s 480ms/step - loss: 0.2905 - accuracy: 0.9103\n",
      "Epoch 8/10\n",
      "175/175 [==============================] - 84s 480ms/step - loss: 0.2780 - accuracy: 0.9172\n",
      "Epoch 9/10\n",
      "175/175 [==============================] - 84s 480ms/step - loss: 0.2548 - accuracy: 0.9258\n",
      "Epoch 10/10\n",
      "175/175 [==============================] - 84s 480ms/step - loss: 0.2447 - accuracy: 0.9275\n",
      "Model 4 trained and saved successfully!\n",
      "Epoch 1/10\n",
      "175/175 [==============================] - 91s 470ms/step - loss: 1.0805 - accuracy: 0.6526\n",
      "Epoch 2/10\n",
      "175/175 [==============================] - 83s 475ms/step - loss: 0.4918 - accuracy: 0.8323\n",
      "Epoch 3/10\n",
      "175/175 [==============================] - 84s 477ms/step - loss: 0.4147 - accuracy: 0.8559\n",
      "Epoch 4/10\n",
      "175/175 [==============================] - 83s 476ms/step - loss: 0.3806 - accuracy: 0.8732\n",
      "Epoch 5/10\n",
      "175/175 [==============================] - 83s 477ms/step - loss: 0.3651 - accuracy: 0.8798\n",
      "Epoch 6/10\n",
      "175/175 [==============================] - 84s 477ms/step - loss: 0.3281 - accuracy: 0.8874\n",
      "Epoch 7/10\n",
      "175/175 [==============================] - 84s 478ms/step - loss: 0.3171 - accuracy: 0.9012\n",
      "Epoch 8/10\n",
      "175/175 [==============================] - 84s 477ms/step - loss: 0.2743 - accuracy: 0.9128\n",
      "Epoch 9/10\n",
      "175/175 [==============================] - 84s 478ms/step - loss: 0.2649 - accuracy: 0.9202\n",
      "Epoch 10/10\n",
      "175/175 [==============================] - 84s 482ms/step - loss: 0.2723 - accuracy: 0.9156\n",
      "Model 5 trained and saved successfully!\n"
     ]
    }
   ],
   "source": [
    "training_batches('batches', 'bagging_models', 5)"
   ]
  },
  {
   "cell_type": "code",
   "execution_count": 12,
   "metadata": {},
   "outputs": [],
   "source": [
    "from tensorflow.keras.models import load_model"
   ]
  },
  {
   "cell_type": "code",
   "execution_count": 14,
   "metadata": {
    "scrolled": true
   },
   "outputs": [
    {
     "name": "stdout",
     "output_type": "stream",
     "text": [
      "Model: \"sequential\"\n",
      "_________________________________________________________________\n",
      "Layer (type)                 Output Shape              Param #   \n",
      "=================================================================\n",
      "keras_layer (KerasLayer)     (None, 1280)              6575232   \n",
      "_________________________________________________________________\n",
      "dense (Dense)                (None, 7)                 8967      \n",
      "=================================================================\n",
      "Total params: 6,584,199\n",
      "Trainable params: 8,967\n",
      "Non-trainable params: 6,575,232\n",
      "_________________________________________________________________\n"
     ]
    }
   ],
   "source": [
    "model_1 = load_model('bagging_models/model_1.h5', custom_objects={'KerasLayer': hub.KerasLayer})\n",
    "model_1.summary()"
   ]
  },
  {
   "cell_type": "code",
   "execution_count": 15,
   "metadata": {},
   "outputs": [],
   "source": [
    "def model_evaluation(model_folder, batch_folder, batch_id):\n",
    "    batch_path = batch_folder + '/batch_' + str(batch_id) + '.npz' \n",
    "    with np.load(batch_path) as batch:\n",
    "        X = batch['X']\n",
    "        y = batch['y']\n",
    "    X_train, X_test, y_train, y_test = train_test_split(X, y, test_size=0.2, random_state=42)\n",
    "    model = load_model('bagging_models/model_' + str(batch_id) + '.h5', custom_objects={'KerasLayer': hub.KerasLayer})\n",
    "    model.evaluate(X_test, y_test)"
   ]
  },
  {
   "cell_type": "code",
   "execution_count": 16,
   "metadata": {},
   "outputs": [
    {
     "name": "stdout",
     "output_type": "stream",
     "text": [
      "44/44 [==============================] - 27s 547ms/step - loss: 0.4774 - accuracy: 0.8436\n",
      "44/44 [==============================] - 23s 476ms/step - loss: 0.4826 - accuracy: 0.8379\n",
      "44/44 [==============================] - 22s 469ms/step - loss: 0.4628 - accuracy: 0.8257\n",
      "44/44 [==============================] - 23s 481ms/step - loss: 0.4870 - accuracy: 0.8436\n",
      "44/44 [==============================] - 22s 471ms/step - loss: 0.4537 - accuracy: 0.8407\n"
     ]
    }
   ],
   "source": [
    "for i in range(1, 6):\n",
    "    model_evaluation('bagging_models', 'batches', i)"
   ]
  }
 ],
 "metadata": {
  "colab": {
   "authorship_tag": "ABX9TyPuRnLV4irX/yqizAp2PNzr",
   "collapsed_sections": [],
   "name": "Training 2.ipynb",
   "provenance": []
  },
  "kernelspec": {
   "display_name": "tensorflow-gpu",
   "language": "python",
   "name": "tensorflow-gpu"
  },
  "language_info": {
   "codemirror_mode": {
    "name": "ipython",
    "version": 3
   },
   "file_extension": ".py",
   "mimetype": "text/x-python",
   "name": "python",
   "nbconvert_exporter": "python",
   "pygments_lexer": "ipython3",
   "version": "3.8.5"
  }
 },
 "nbformat": 4,
 "nbformat_minor": 1
}
